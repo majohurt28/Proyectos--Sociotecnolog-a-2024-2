{
 "cells": [
  {
   "cell_type": "markdown",
   "id": "2e3c53b4",
   "metadata": {},
   "source": [
    "# Python Intro 🐍\n",
    "Este ejercicio tiene como objetivo practicar algunas nociones básicas de Python"
   ]
  },
  {
   "cell_type": "markdown",
   "id": "bcb29d4a",
   "metadata": {},
   "source": [
    "##  📕 Operaciones con Strings (str)"
   ]
  },
  {
   "cell_type": "markdown",
   "id": "230d3edb",
   "metadata": {},
   "source": [
    "Dividir el string dado según los espacios, obteniendo como resultado una lista de las palabras"
   ]
  },
  {
   "cell_type": "code",
   "execution_count": 2,
   "id": "aff586b8",
   "metadata": {},
   "outputs": [
    {
     "name": "stdout",
     "output_type": "stream",
     "text": [
      "['The', 'universe', \"doesn't\", 'allow', 'perfection']\n"
     ]
    }
   ],
   "source": [
    "s = \"The universe doesn't allow perfection\"\n",
    "print(s.split())"
   ]
  },
  {
   "cell_type": "markdown",
   "id": "5c67ffa1",
   "metadata": {},
   "source": [
    "Dado el siguiente texto construya un programa que cuente los caracteres sin contar los espacios:"
   ]
  },
  {
   "cell_type": "code",
   "execution_count": 4,
   "id": "867c8042",
   "metadata": {},
   "outputs": [
    {
     "name": "stdout",
     "output_type": "stream",
     "text": [
      "61\n"
     ]
    }
   ],
   "source": [
    "s = \"El pasado puede doler, pero tal como yo lo veo, puedes huir o aprender de él\"\n",
    "print( len(s) - (s.count(\" \")))\n",
    "\n"
   ]
  },
  {
   "cell_type": "markdown",
   "id": "c4df37c8",
   "metadata": {},
   "source": [
    "Dado el siguiente texto, remplazar la palbra \"apple\" por \"banana\""
   ]
  },
  {
   "cell_type": "code",
   "execution_count": 5,
   "id": "df679a5c",
   "metadata": {
    "ExecuteTime": {
     "end_time": "2023-02-08T18:34:38.407350Z",
     "start_time": "2023-02-08T18:34:38.399801Z"
    }
   },
   "outputs": [
    {
     "name": "stdout",
     "output_type": "stream",
     "text": [
      "If you wish to make an banana pie from scratch, you must first invent the universe\n"
     ]
    }
   ],
   "source": [
    "s = \"If you wish to make an apple pie from scratch, you must first invent the universe\"\n",
    "new_s = s.replace( \"apple\", \"banana\")\n",
    "print(new_s)\n",
    "\n"
   ]
  },
  {
   "cell_type": "markdown",
   "id": "cdb55f48",
   "metadata": {},
   "source": [
    "Usar .format() para imprimir el siguiente string:\n",
    "- The diameter of Earth is 12742 kilometers"
   ]
  },
  {
   "cell_type": "code",
   "execution_count": 10,
   "id": "055a6401",
   "metadata": {},
   "outputs": [
    {
     "name": "stdout",
     "output_type": "stream",
     "text": [
      "The diameter of Earth is 12742\n"
     ]
    }
   ],
   "source": [
    "planet = \"Earth\"\n",
    "diameter = 12742\n",
    "\n",
    "new_text = \"The diameter of {planet} is {diameter}\"\n",
    "print(new_text.format(planet = \"Earth\", diameter = 12742)) "
   ]
  },
  {
   "cell_type": "markdown",
   "id": "9c2bc104",
   "metadata": {},
   "source": [
    "## 🍕 Operaciones con Listas"
   ]
  },
  {
   "cell_type": "markdown",
   "id": "17a218a4",
   "metadata": {},
   "source": [
    "Dada la siguiente lista, obtener los primeros 3 elementos en una lista disferente (no modificar la lista original)"
   ]
  },
  {
   "cell_type": "code",
   "execution_count": 7,
   "id": "a6d580df",
   "metadata": {},
   "outputs": [],
   "source": [
    "lst = [0, 1, 2, 3, 4, 5, 6, 7, 8, 9, 10]\n",
    "list = [0, 1, 2, 3, 4, 5, 6, 7, 8, 9, 10]\n",
    "print(list[:3])"
   ]
  },
  {
   "cell_type": "markdown",
   "id": "44307638",
   "metadata": {},
   "source": [
    "Dada la siguiente lista, obtener los últimos 3 elementos en una lista diferente (no modificar la lista original)"
   ]
  },
  {
   "cell_type": "code",
   "execution_count": 8,
   "id": "9c0d08be",
   "metadata": {},
   "outputs": [],
   "source": [
    "lst = [0, 1, 2, 3, 4, 5, 6, 7, 8, 9, 10]\n",
    "list = [0, 1, 2, 3, 4, 5, 6, 7, 8, 9, 10]\n",
    "print(list[3:10])"
   ]
  },
  {
   "cell_type": "markdown",
   "id": "4f0367a7",
   "metadata": {},
   "source": [
    "Dada la siguiente lista, obtener solo los números pares"
   ]
  },
  {
   "cell_type": "code",
   "execution_count": 22,
   "id": "82bb87e7",
   "metadata": {},
   "outputs": [
    {
     "name": "stdout",
     "output_type": "stream",
     "text": [
      "0,2,4,6,8,10,"
     ]
    }
   ],
   "source": [
    "lst = [0, 1, 2, 3, 4, 5, 6, 7, 8, 9, 10]\n",
    "for num in lst:\n",
    "    if num %2 == 0:\n",
    "        print(num, end=\",\")\n"
   ]
  },
  {
   "cell_type": "markdown",
   "id": "afbd0165",
   "metadata": {},
   "source": [
    "Dada la siguiente lista, revertir la lista"
   ]
  },
  {
   "cell_type": "code",
   "execution_count": 26,
   "id": "a9de014d",
   "metadata": {},
   "outputs": [
    {
     "name": "stdout",
     "output_type": "stream",
     "text": [
      "10, 9, 8, 7, 6, 5, 4, 3, 2, 1, 0, "
     ]
    }
   ],
   "source": [
    "lst = [0, 1, 2, 3, 4, 5, 6, 7, 8, 9, 10]\n",
    "for num in reversed(lst):\n",
    "    print(num, end=\", \")\n",
    "\n",
    "\n",
    "\n",
    "\n"
   ]
  },
  {
   "cell_type": "markdown",
   "id": "19cb7d3d",
   "metadata": {},
   "source": [
    "Ordenar la siguiente lista de menor a mayor"
   ]
  },
  {
   "cell_type": "code",
   "execution_count": 29,
   "id": "4cbb0ec6",
   "metadata": {},
   "outputs": [
    {
     "name": "stdout",
     "output_type": "stream",
     "text": [
      "[0, 1, 1, 1, 2, 3, 4, 6, 7, 12, 14]\n"
     ]
    }
   ],
   "source": [
    "lst = [4, 1, 6, 12, 3, 2, 1, 7, 1, 0, 14]\n",
    "lst.sort()\n",
    "print(lst)\n",
    "#sort es un método para listas que permite ordenar las mismas.\n"
   ]
  },
  {
   "cell_type": "markdown",
   "id": "aab9554c",
   "metadata": {},
   "source": [
    "Dada la siguiente lista, seleccionar e imprimir la palabra \"Hello\""
   ]
  },
  {
   "cell_type": "code",
   "execution_count": 53,
   "id": "0baa850a",
   "metadata": {
    "ExecuteTime": {
     "end_time": "2023-02-06T20:46:28.438222Z",
     "start_time": "2023-02-06T20:46:28.426867Z"
    }
   },
   "outputs": [
    {
     "name": "stdout",
     "output_type": "stream",
     "text": [
      "hello\n"
     ]
    }
   ],
   "source": [
    "lst = [1,2,[3,4],[5,[100,200,['hello']],23,11],1,7]\n",
    "print(lst[3][1][2][0])\n"
   ]
  },
  {
   "cell_type": "markdown",
   "id": "4e7485bd",
   "metadata": {},
   "source": [
    "(Dificultad: medianamente complicado) Ordenar la siguiente lista de diccionarios de mayor a menor y de menor a mayor según el valor de 'age'"
   ]
  },
  {
   "cell_type": "code",
   "execution_count": 44,
   "id": "0a08b09e",
   "metadata": {},
   "outputs": [
    {
     "name": "stdout",
     "output_type": "stream",
     "text": [
      "[{'name': 'C', 'age': 2}, {'name': 'D', 'age': 4}, {'name': 'A', 'age': 12}, {'name': 'B', 'age': 22}, {'name': 'E', 'age': 42}]\n",
      "{'name': 'E', 'age': 42}, {'name': 'B', 'age': 22}, {'name': 'A', 'age': 12}, {'name': 'D', 'age': 4}, {'name': 'C', 'age': 2}, "
     ]
    }
   ],
   "source": [
    "nombres_apellidos = [\n",
    "    {\n",
    "        \"name\": \"A\",\n",
    "        \"age\": 12\n",
    "    },\n",
    "        {\n",
    "        \"name\": \"B\",\n",
    "        \"age\": 22\n",
    "    },\n",
    "        {\n",
    "        \"name\": \"C\",\n",
    "        \"age\": 2\n",
    "    },\n",
    "        {\n",
    "        \"name\": \"D\",\n",
    "        \"age\": 4\n",
    "    },\n",
    "        {\n",
    "        \"name\": \"E\",\n",
    "        \"age\": 42\n",
    "    },\n",
    "]\n",
    "\n",
    "sort_nombres_apellidos = sorted(nombres_apellidos, key=lambda x: x[\"age\"])\n",
    "print(sort_nombres_apellidos)\n",
    "\n",
    "rev_nombres_apellidos = sort_nombres_apellidos\n",
    "\n",
    "for num in reversed(rev_nombres_apellidos):\n",
    "    print(num, end=\", \")\n",
    "\n",
    "#o tal vez así...  rev_nombres_apellidos =sorted(nombres_apellidos, key=lambda x: x[\"age\"], reversed= True)\n",
    "\n"
   ]
  },
  {
   "cell_type": "markdown",
   "id": "3e4b4828",
   "metadata": {},
   "source": [
    "## 🔥 Funciones\n",
    "***Principalmente existen 2 formas de crear funciones en python***"
   ]
  },
  {
   "cell_type": "code",
   "execution_count": 4,
   "id": "1fe1e0fb",
   "metadata": {
    "ExecuteTime": {
     "end_time": "2023-02-08T01:54:06.052825Z",
     "start_time": "2023-02-08T01:54:06.046614Z"
    }
   },
   "outputs": [],
   "source": [
    "#1. def\n",
    "def function_name_1 (a, b, c):\n",
    "    #some logic\n",
    "    return 'Lo que se va a retornar en esta función'\n",
    "\n",
    "#2. lambda -> muy utilizada para pasarla como argumento dentro de otra función\n",
    "function_name_2 = lambda a, b, c: 'luego de los puntos va lo que se retorna'"
   ]
  },
  {
   "cell_type": "markdown",
   "id": "cbe57dde",
   "metadata": {},
   "source": [
    "Crear una función que reciba de entrada un correo electrónico en formato string, y retorne el dominio (lo que va desúes de @)\n",
    "- Entrada: user@domain.com\n",
    "- Salida esperada: domain.com"
   ]
  },
  {
   "cell_type": "code",
   "execution_count": 31,
   "id": "12dada97",
   "metadata": {},
   "outputs": [
    {
     "name": "stdout",
     "output_type": "stream",
     "text": [
      "hotmail.com\n"
     ]
    }
   ],
   "source": [
    "mail_entry = \"carlitos@hotmail.com\"\n",
    "\n",
    "\n",
    "def mail_user(mail_entry ):\n",
    "    return mail_entry.split('@')[1]\n",
    "\n",
    "result = mail_user (mail_entry)\n",
    "print(result)"
   ]
  },
  {
   "cell_type": "markdown",
   "id": "1955a405",
   "metadata": {},
   "source": [
    "Usar la expresión lambda para filtrar las palabras que no inicien en s de la siguiente lista"
   ]
  },
  {
   "cell_type": "code",
   "execution_count": 20,
   "id": "a7b81ad7",
   "metadata": {},
   "outputs": [
    {
     "name": "stdout",
     "output_type": "stream",
     "text": [
      "['dog', 'cat', 'great']\n"
     ]
    }
   ],
   "source": [
    "words = ['soup','dog','salad','cat','great']\n",
    "\n",
    "filtered_words= list(filter( lambda word: not word.startswith(\"s\"), words))\n",
    "##List para convertir el resultado en una lista...\n",
    "print(filtered_words)\n"
   ]
  },
  {
   "cell_type": "markdown",
   "id": "fa54904f",
   "metadata": {},
   "source": [
    "Crear una función que reciba 2 parámetros, el primero un frase, y el segundo una palabra (ambos son de tipo string), esta función recisará si la palabra (segundo parámetro) se enceuntra en la frase (primer parámetro), slo retornará True o False según el caso."
   ]
  },
  {
   "cell_type": "code",
   "execution_count": 29,
   "id": "cb0184b4",
   "metadata": {},
   "outputs": [
    {
     "name": "stdout",
     "output_type": "stream",
     "text": [
      "False\n"
     ]
    }
   ],
   "source": [
    "phrase= \"BlackPink in your area\" \n",
    "word = \"peace\"\n",
    "def parameter_verification (phrase, word):\n",
    "    return word in phrase\n",
    "\n",
    "result = parameter_verification (phrase, word)\n",
    "print(result)"
   ]
  },
  {
   "cell_type": "markdown",
   "id": "f9430ee2",
   "metadata": {},
   "source": [
    "Cree una función básica que devuelva True si la palabra 'dog' está contenida en el string dado"
   ]
  },
  {
   "cell_type": "code",
   "execution_count": 27,
   "id": "7a5720c3",
   "metadata": {},
   "outputs": [
    {
     "name": "stdout",
     "output_type": "stream",
     "text": [
      "True\n"
     ]
    }
   ],
   "source": [
    "s = \"Is there a dog here?\"\n",
    "\n",
    "def function_count (s):\n",
    "    return 'dog' in s.split()\n",
    "\n",
    "dog_counted = function_count (s)\n",
    "print(dog_counted)"
   ]
  },
  {
   "cell_type": "markdown",
   "id": "293c55f4",
   "metadata": {},
   "source": [
    "Cree una función que cuente el número de veces que aparece la palabra \"dog\" en el string dado"
   ]
  },
  {
   "cell_type": "code",
   "execution_count": 40,
   "id": "874ded88",
   "metadata": {
    "ExecuteTime": {
     "end_time": "2023-02-09T01:28:18.956800Z",
     "start_time": "2023-02-09T01:28:18.939272Z"
    }
   },
   "outputs": [
    {
     "name": "stdout",
     "output_type": "stream",
     "text": [
      "La palabra dog se repite 2 veces\n"
     ]
    }
   ],
   "source": [
    "s = \"This dog runs faster than the other dog dude!\"\n",
    "\n",
    "def function_count (s):\n",
    "    return(s.count(\"dog\"))\n",
    "\n",
    "dog_counted = function_count (s)\n",
    "print(f'La palabra dog se repite {dog_counted} veces')\n",
    "   \n",
    "\n",
    "\n",
    "\n",
    "#print(s.count(\" dog\"))"
   ]
  },
  {
   "cell_type": "markdown",
   "id": "a93135a9",
   "metadata": {},
   "source": [
    "## 🍎 Numpy básico\n",
    "La documentación oficial de numpy esta aquí: <a href=\"https://numpy.org/doc/stable/reference/index.html#reference\">Numpy reference</a>"
   ]
  },
  {
   "cell_type": "markdown",
   "id": "16457fa5",
   "metadata": {},
   "source": [
    "Importa numpy como np"
   ]
  },
  {
   "cell_type": "code",
   "execution_count": null,
   "id": "e2dbf833",
   "metadata": {},
   "outputs": [],
   "source": [
    "import numpy as np"
   ]
  },
  {
   "cell_type": "markdown",
   "id": "3157153e",
   "metadata": {},
   "source": [
    "Crea un arreglo de 10 ceros"
   ]
  },
  {
   "cell_type": "code",
   "execution_count": 53,
   "id": "605d3d0f",
   "metadata": {},
   "outputs": [
    {
     "name": "stdout",
     "output_type": "stream",
     "text": [
      "[0. 0. 0. 0. 0. 0. 0. 0. 0. 0.]\n"
     ]
    }
   ],
   "source": [
    "import numpy as np\n",
    "array_zeros = np.zeros(10)\n",
    "\n",
    "print(array_zeros)"
   ]
  },
  {
   "cell_type": "markdown",
   "id": "e8bff575",
   "metadata": {},
   "source": [
    "Crea un arreglo de 10 unos"
   ]
  },
  {
   "cell_type": "code",
   "execution_count": 55,
   "id": "146079a6",
   "metadata": {},
   "outputs": [
    {
     "name": "stdout",
     "output_type": "stream",
     "text": [
      "[1. 1. 1. 1. 1. 1. 1. 1. 1. 1.]\n"
     ]
    }
   ],
   "source": [
    "import numpy as np\n",
    "array_ones = np.ones(10)\n",
    "\n",
    "print(array_ones)"
   ]
  },
  {
   "cell_type": "markdown",
   "id": "0d9c50ac",
   "metadata": {},
   "source": [
    "Crea un arreglo de 10 cincos"
   ]
  },
  {
   "cell_type": "code",
   "execution_count": 56,
   "id": "e41e46c3",
   "metadata": {},
   "outputs": [
    {
     "name": "stdout",
     "output_type": "stream",
     "text": [
      "[4. 4. 4. 4. 4. 4. 4. 4. 4. 4.]\n"
     ]
    }
   ],
   "source": [
    "import numpy as np\n",
    "array_four = np.ones(10) * 4\n",
    "\n",
    "print(array_four)"
   ]
  },
  {
   "cell_type": "markdown",
   "id": "2b00f679",
   "metadata": {},
   "source": [
    "Crea un areglo de enteros (int) de 10 a 50"
   ]
  },
  {
   "cell_type": "code",
   "execution_count": 6,
   "id": "b721e67f",
   "metadata": {},
   "outputs": [
    {
     "name": "stdout",
     "output_type": "stream",
     "text": [
      "[10 12 14 16 18 20 22 24 26 28 30 32 34 36 38 40 42 44 46 48 50]\n"
     ]
    }
   ],
   "source": [
    "new_array = np.arange(10, 51, 2)\n",
    "print(new_array)"
   ]
  },
  {
   "cell_type": "markdown",
   "id": "44784f36",
   "metadata": {},
   "source": [
    "Crea una matrix de 3x3 con los valores de 0 a 8\n",
    "-> Revisar método ***reshape***"
   ]
  },
  {
   "cell_type": "code",
   "execution_count": 2,
   "id": "0dbc15f4",
   "metadata": {},
   "outputs": [
    {
     "name": "stdout",
     "output_type": "stream",
     "text": [
      "[0 1 2 3 4 5 6 7 8]\n",
      "[[0 1 2]\n",
      " [3 4 5]\n",
      " [6 7 8]]\n"
     ]
    }
   ],
   "source": [
    "import numpy as np\n",
    "array_a = np.arange(9)\n",
    "print(array_a)\n",
    "\n",
    "array_b = array_a.reshape(3, 3)\n",
    "print (array_b)\n"
   ]
  },
  {
   "cell_type": "markdown",
   "id": "99c1708d",
   "metadata": {},
   "source": [
    "Crea un arreglo de tamaño 20 lleno de valores aleatorios entre 10 y 100"
   ]
  },
  {
   "cell_type": "code",
   "execution_count": 1,
   "id": "aff14485",
   "metadata": {},
   "outputs": [
    {
     "name": "stdout",
     "output_type": "stream",
     "text": [
      "[37 12 48 23 30 22 14 32 21 18 32 29 32 29 47 39 42 20 30 29]\n"
     ]
    }
   ],
   "source": [
    "import numpy as np\n",
    "a = np.random.randint(10, 51, size=20)\n",
    "print(a)"
   ]
  },
  {
   "cell_type": "markdown",
   "id": "f106c47b",
   "metadata": {},
   "source": [
    "## 🎋 Pandas básico\n",
    "La documentación oficial de pandas esta aquí: <a href=\"https://pandas.pydata.org/docs/\">Pandas reference</a>"
   ]
  },
  {
   "cell_type": "markdown",
   "id": "7e109d11",
   "metadata": {},
   "source": [
    "Importa pandas como ***pd***"
   ]
  },
  {
   "cell_type": "code",
   "execution_count": 33,
   "id": "2d1db13e",
   "metadata": {},
   "outputs": [],
   "source": [
    "import pandas as pd"
   ]
  },
  {
   "cell_type": "markdown",
   "id": "de5cb1ec",
   "metadata": {},
   "source": [
    "Leer Salaries.csv como un dataframe y llamarlo sal"
   ]
  },
  {
   "cell_type": "code",
   "execution_count": 34,
   "id": "29f92354",
   "metadata": {},
   "outputs": [
    {
     "name": "stdout",
     "output_type": "stream",
     "text": [
      "            Id       EmployeeName  \\\n",
      "0            1     NATHANIEL FORD   \n",
      "1            2       GARY JIMENEZ   \n",
      "2            3     ALBERT PARDINI   \n",
      "3            4  CHRISTOPHER CHONG   \n",
      "4            5    PATRICK GARDNER   \n",
      "...        ...                ...   \n",
      "148649  148650      Roy I Tillery   \n",
      "148650  148651       Not provided   \n",
      "148651  148652       Not provided   \n",
      "148652  148653       Not provided   \n",
      "148653  148654          Joe Lopez   \n",
      "\n",
      "                                              JobTitle    BasePay  \\\n",
      "0       GENERAL MANAGER-METROPOLITAN TRANSIT AUTHORITY  167411.18   \n",
      "1                      CAPTAIN III (POLICE DEPARTMENT)  155966.02   \n",
      "2                      CAPTAIN III (POLICE DEPARTMENT)  212739.13   \n",
      "3                 WIRE ROPE CABLE MAINTENANCE MECHANIC   77916.00   \n",
      "4         DEPUTY CHIEF OF DEPARTMENT,(FIRE DEPARTMENT)  134401.60   \n",
      "...                                                ...        ...   \n",
      "148649                                       Custodian       0.00   \n",
      "148650                                    Not provided        NaN   \n",
      "148651                                    Not provided        NaN   \n",
      "148652                                    Not provided        NaN   \n",
      "148653                      Counselor, Log Cabin Ranch       0.00   \n",
      "\n",
      "        OvertimePay   OtherPay  Benefits   TotalPay  TotalPayBenefits  Year  \\\n",
      "0              0.00  400184.25       NaN  567595.43         567595.43  2011   \n",
      "1         245131.88  137811.38       NaN  538909.28         538909.28  2011   \n",
      "2         106088.18   16452.60       NaN  335279.91         335279.91  2011   \n",
      "3          56120.71  198306.90       NaN  332343.61         332343.61  2011   \n",
      "4           9737.00  182234.59       NaN  326373.19         326373.19  2011   \n",
      "...             ...        ...       ...        ...               ...   ...   \n",
      "148649         0.00       0.00       0.0       0.00              0.00  2014   \n",
      "148650          NaN        NaN       NaN       0.00              0.00  2014   \n",
      "148651          NaN        NaN       NaN       0.00              0.00  2014   \n",
      "148652          NaN        NaN       NaN       0.00              0.00  2014   \n",
      "148653         0.00    -618.13       0.0    -618.13           -618.13  2014   \n",
      "\n",
      "        Notes         Agency  Status  \n",
      "0         NaN  San Francisco     NaN  \n",
      "1         NaN  San Francisco     NaN  \n",
      "2         NaN  San Francisco     NaN  \n",
      "3         NaN  San Francisco     NaN  \n",
      "4         NaN  San Francisco     NaN  \n",
      "...       ...            ...     ...  \n",
      "148649    NaN  San Francisco     NaN  \n",
      "148650    NaN  San Francisco     NaN  \n",
      "148651    NaN  San Francisco     NaN  \n",
      "148652    NaN  San Francisco     NaN  \n",
      "148653    NaN  San Francisco     NaN  \n",
      "\n",
      "[148654 rows x 13 columns]\n"
     ]
    }
   ],
   "source": [
    "import pandas as pd\n",
    "\n",
    "Sal= pd.read_csv('Salaries.csv')\n",
    "print(Sal)"
   ]
  },
  {
   "cell_type": "markdown",
   "id": "dd755fdb",
   "metadata": {},
   "source": [
    "Revisar el head del dataframe (usar el métdodo head())"
   ]
  },
  {
   "cell_type": "code",
   "execution_count": 37,
   "id": "62a84934",
   "metadata": {},
   "outputs": [
    {
     "name": "stdout",
     "output_type": "stream",
     "text": [
      "   Id       EmployeeName                                        JobTitle  \\\n",
      "0   1     NATHANIEL FORD  GENERAL MANAGER-METROPOLITAN TRANSIT AUTHORITY   \n",
      "1   2       GARY JIMENEZ                 CAPTAIN III (POLICE DEPARTMENT)   \n",
      "2   3     ALBERT PARDINI                 CAPTAIN III (POLICE DEPARTMENT)   \n",
      "3   4  CHRISTOPHER CHONG            WIRE ROPE CABLE MAINTENANCE MECHANIC   \n",
      "4   5    PATRICK GARDNER    DEPUTY CHIEF OF DEPARTMENT,(FIRE DEPARTMENT)   \n",
      "\n",
      "     BasePay  OvertimePay   OtherPay  Benefits   TotalPay  TotalPayBenefits  \\\n",
      "0  167411.18         0.00  400184.25       NaN  567595.43         567595.43   \n",
      "1  155966.02    245131.88  137811.38       NaN  538909.28         538909.28   \n",
      "2  212739.13    106088.18   16452.60       NaN  335279.91         335279.91   \n",
      "3   77916.00     56120.71  198306.90       NaN  332343.61         332343.61   \n",
      "4  134401.60      9737.00  182234.59       NaN  326373.19         326373.19   \n",
      "\n",
      "   Year  Notes         Agency  Status  \n",
      "0  2011    NaN  San Francisco     NaN  \n",
      "1  2011    NaN  San Francisco     NaN  \n",
      "2  2011    NaN  San Francisco     NaN  \n",
      "3  2011    NaN  San Francisco     NaN  \n",
      "4  2011    NaN  San Francisco     NaN  \n"
     ]
    }
   ],
   "source": [
    "Sal= pd.read_csv('Salaries.csv')\n",
    "print(Sal.head())"
   ]
  },
  {
   "cell_type": "markdown",
   "id": "90a7f4b5",
   "metadata": {},
   "source": [
    "¿Cual es el BasePay promedio?"
   ]
  },
  {
   "cell_type": "code",
   "execution_count": 46,
   "id": "cb72a9b6",
   "metadata": {},
   "outputs": [
    {
     "name": "stdout",
     "output_type": "stream",
     "text": [
      "   Id       EmployeeName                                        JobTitle  \\\n",
      "0   1     NATHANIEL FORD  GENERAL MANAGER-METROPOLITAN TRANSIT AUTHORITY   \n",
      "1   2       GARY JIMENEZ                 CAPTAIN III (POLICE DEPARTMENT)   \n",
      "2   3     ALBERT PARDINI                 CAPTAIN III (POLICE DEPARTMENT)   \n",
      "3   4  CHRISTOPHER CHONG            WIRE ROPE CABLE MAINTENANCE MECHANIC   \n",
      "4   5    PATRICK GARDNER    DEPUTY CHIEF OF DEPARTMENT,(FIRE DEPARTMENT)   \n",
      "\n",
      "     BasePay  OvertimePay   OtherPay  Benefits   TotalPay  TotalPayBenefits  \\\n",
      "0  167411.18         0.00  400184.25       NaN  567595.43         567595.43   \n",
      "1  155966.02    245131.88  137811.38       NaN  538909.28         538909.28   \n",
      "2  212739.13    106088.18   16452.60       NaN  335279.91         335279.91   \n",
      "3   77916.00     56120.71  198306.90       NaN  332343.61         332343.61   \n",
      "4  134401.60      9737.00  182234.59       NaN  326373.19         326373.19   \n",
      "\n",
      "   Year  Notes         Agency  Status  \n",
      "0  2011    NaN  San Francisco     NaN  \n",
      "1  2011    NaN  San Francisco     NaN  \n",
      "2  2011    NaN  San Francisco     NaN  \n",
      "3  2011    NaN  San Francisco     NaN  \n",
      "4  2011    NaN  San Francisco     NaN  \n",
      "f el promedio de BasePlay es {basepay_promedium}\n"
     ]
    }
   ],
   "source": [
    "import pandas as pd\n",
    "sal= pd.read_csv('Salaries.csv')\n",
    "print(Sal.head())\n",
    "\n",
    "basepay_promedium =  sal['BasePay'].mean()\n",
    "print('f el promedio de BasePlay es {basepay_promedium}')"
   ]
  },
  {
   "cell_type": "markdown",
   "id": "eaaa464d",
   "metadata": {},
   "source": [
    "¿Cuál es la cantidad más alta de OvertimePay en el conjunto de datos?"
   ]
  },
  {
   "cell_type": "code",
   "execution_count": 47,
   "id": "fca7b92a",
   "metadata": {},
   "outputs": [
    {
     "name": "stdout",
     "output_type": "stream",
     "text": [
      "   Id       EmployeeName                                        JobTitle  \\\n",
      "0   1     NATHANIEL FORD  GENERAL MANAGER-METROPOLITAN TRANSIT AUTHORITY   \n",
      "1   2       GARY JIMENEZ                 CAPTAIN III (POLICE DEPARTMENT)   \n",
      "2   3     ALBERT PARDINI                 CAPTAIN III (POLICE DEPARTMENT)   \n",
      "3   4  CHRISTOPHER CHONG            WIRE ROPE CABLE MAINTENANCE MECHANIC   \n",
      "4   5    PATRICK GARDNER    DEPUTY CHIEF OF DEPARTMENT,(FIRE DEPARTMENT)   \n",
      "\n",
      "     BasePay  OvertimePay   OtherPay  Benefits   TotalPay  TotalPayBenefits  \\\n",
      "0  167411.18         0.00  400184.25       NaN  567595.43         567595.43   \n",
      "1  155966.02    245131.88  137811.38       NaN  538909.28         538909.28   \n",
      "2  212739.13    106088.18   16452.60       NaN  335279.91         335279.91   \n",
      "3   77916.00     56120.71  198306.90       NaN  332343.61         332343.61   \n",
      "4  134401.60      9737.00  182234.59       NaN  326373.19         326373.19   \n",
      "\n",
      "   Year  Notes         Agency  Status  \n",
      "0  2011    NaN  San Francisco     NaN  \n",
      "1  2011    NaN  San Francisco     NaN  \n",
      "2  2011    NaN  San Francisco     NaN  \n",
      "3  2011    NaN  San Francisco     NaN  \n",
      "4  2011    NaN  San Francisco     NaN  \n",
      "f la cantidad más alta de OverTimePlay es {Overtimepay_highamount}\n"
     ]
    }
   ],
   "source": [
    "sal= pd.read_csv('Salaries.csv')\n",
    "print(Sal.head())\n",
    "\n",
    "Overtimepay_highamount =  sal['OvertimePay'].max()\n",
    "print('f la cantidad más alta de OverTimePlay es {Overtimepay_highamount}')"
   ]
  },
  {
   "cell_type": "markdown",
   "id": "268c8007",
   "metadata": {},
   "source": [
    "¿Cuál es el cargo de JOSEPH DRISCOLL? Nota: use mayúsculas, de lo contrario, puede obtener una respuesta que no coincida (también hay un Joseph Driscoll en minúsculas)"
   ]
  },
  {
   "cell_type": "code",
   "execution_count": 52,
   "id": "659e2230",
   "metadata": {},
   "outputs": [
    {
     "name": "stdout",
     "output_type": "stream",
     "text": [
      "   Id       EmployeeName                                        JobTitle  \\\n",
      "0   1     NATHANIEL FORD  GENERAL MANAGER-METROPOLITAN TRANSIT AUTHORITY   \n",
      "1   2       GARY JIMENEZ                 CAPTAIN III (POLICE DEPARTMENT)   \n",
      "2   3     ALBERT PARDINI                 CAPTAIN III (POLICE DEPARTMENT)   \n",
      "3   4  CHRISTOPHER CHONG            WIRE ROPE CABLE MAINTENANCE MECHANIC   \n",
      "4   5    PATRICK GARDNER    DEPUTY CHIEF OF DEPARTMENT,(FIRE DEPARTMENT)   \n",
      "\n",
      "     BasePay  OvertimePay   OtherPay  Benefits   TotalPay  TotalPayBenefits  \\\n",
      "0  167411.18         0.00  400184.25       NaN  567595.43         567595.43   \n",
      "1  155966.02    245131.88  137811.38       NaN  538909.28         538909.28   \n",
      "2  212739.13    106088.18   16452.60       NaN  335279.91         335279.91   \n",
      "3   77916.00     56120.71  198306.90       NaN  332343.61         332343.61   \n",
      "4  134401.60      9737.00  182234.59       NaN  326373.19         326373.19   \n",
      "\n",
      "   Year  Notes         Agency  Status  \n",
      "0  2011    NaN  San Francisco     NaN  \n",
      "1  2011    NaN  San Francisco     NaN  \n",
      "2  2011    NaN  San Francisco     NaN  \n",
      "3  2011    NaN  San Francisco     NaN  \n",
      "4  2011    NaN  San Francisco     NaN  \n"
     ]
    },
    {
     "ename": "KeyError",
     "evalue": "'JOSEPH DRISCOLL'",
     "output_type": "error",
     "traceback": [
      "\u001b[1;31m---------------------------------------------------------------------------\u001b[0m",
      "\u001b[1;31mKeyError\u001b[0m                                  Traceback (most recent call last)",
      "Cell \u001b[1;32mIn[52], line 4\u001b[0m\n\u001b[0;32m      1\u001b[0m Sal\u001b[38;5;241m=\u001b[39m pd\u001b[38;5;241m.\u001b[39mread_csv(\u001b[38;5;124m'\u001b[39m\u001b[38;5;124mSalaries.csv\u001b[39m\u001b[38;5;124m'\u001b[39m)\n\u001b[0;32m      2\u001b[0m \u001b[38;5;28mprint\u001b[39m(Sal\u001b[38;5;241m.\u001b[39mhead())\n\u001b[1;32m----> 4\u001b[0m charge_worker \u001b[38;5;241m=\u001b[39m sal\u001b[38;5;241m.\u001b[39mloc[\u001b[38;5;124m'\u001b[39m\u001b[38;5;124mJOSEPH DRISCOLL\u001b[39m\u001b[38;5;124m'\u001b[39m, \u001b[38;5;124m'\u001b[39m\u001b[38;5;124mJobTitle\u001b[39m\u001b[38;5;124m'\u001b[39m]\n\u001b[0;32m      5\u001b[0m \u001b[38;5;28mprint\u001b[39m(\u001b[38;5;124mf\u001b[39m\u001b[38;5;124m'\u001b[39m\u001b[38;5;124mEl cargo de JOSEPH DRISCOLL es \u001b[39m\u001b[38;5;132;01m{\u001b[39;00mcharge_worker[\u001b[38;5;241m0\u001b[39m]\u001b[38;5;250m \u001b[39m\u001b[38;5;28;01mif\u001b[39;00m\u001b[38;5;250m \u001b[39m\u001b[38;5;129;01mnot\u001b[39;00m\u001b[38;5;250m \u001b[39mcharge_worker\u001b[38;5;241m.\u001b[39mempty\u001b[38;5;250m \u001b[39m\u001b[38;5;28;01melse\u001b[39;00m\u001b[38;5;250m \u001b[39m\u001b[38;5;124m\"\u001b[39m\u001b[38;5;124mNo se logró encontrar\u001b[39m\u001b[38;5;124m\"\u001b[39m\u001b[38;5;250m \u001b[39m\u001b[38;5;132;01m}\u001b[39;00m\u001b[38;5;124m'\u001b[39m)\n",
      "File \u001b[1;32mc:\\Users\\maria\\anaconda3\\Lib\\site-packages\\pandas\\core\\indexing.py:1183\u001b[0m, in \u001b[0;36m_LocationIndexer.__getitem__\u001b[1;34m(self, key)\u001b[0m\n\u001b[0;32m   1181\u001b[0m     key \u001b[38;5;241m=\u001b[39m \u001b[38;5;28mtuple\u001b[39m(com\u001b[38;5;241m.\u001b[39mapply_if_callable(x, \u001b[38;5;28mself\u001b[39m\u001b[38;5;241m.\u001b[39mobj) \u001b[38;5;28;01mfor\u001b[39;00m x \u001b[38;5;129;01min\u001b[39;00m key)\n\u001b[0;32m   1182\u001b[0m     \u001b[38;5;28;01mif\u001b[39;00m \u001b[38;5;28mself\u001b[39m\u001b[38;5;241m.\u001b[39m_is_scalar_access(key):\n\u001b[1;32m-> 1183\u001b[0m         \u001b[38;5;28;01mreturn\u001b[39;00m \u001b[38;5;28mself\u001b[39m\u001b[38;5;241m.\u001b[39mobj\u001b[38;5;241m.\u001b[39m_get_value(\u001b[38;5;241m*\u001b[39mkey, takeable\u001b[38;5;241m=\u001b[39m\u001b[38;5;28mself\u001b[39m\u001b[38;5;241m.\u001b[39m_takeable)\n\u001b[0;32m   1184\u001b[0m     \u001b[38;5;28;01mreturn\u001b[39;00m \u001b[38;5;28mself\u001b[39m\u001b[38;5;241m.\u001b[39m_getitem_tuple(key)\n\u001b[0;32m   1185\u001b[0m \u001b[38;5;28;01melse\u001b[39;00m:\n\u001b[0;32m   1186\u001b[0m     \u001b[38;5;66;03m# we by definition only have the 0th axis\u001b[39;00m\n",
      "File \u001b[1;32mc:\\Users\\maria\\anaconda3\\Lib\\site-packages\\pandas\\core\\frame.py:4221\u001b[0m, in \u001b[0;36mDataFrame._get_value\u001b[1;34m(self, index, col, takeable)\u001b[0m\n\u001b[0;32m   4215\u001b[0m engine \u001b[38;5;241m=\u001b[39m \u001b[38;5;28mself\u001b[39m\u001b[38;5;241m.\u001b[39mindex\u001b[38;5;241m.\u001b[39m_engine\n\u001b[0;32m   4217\u001b[0m \u001b[38;5;28;01mif\u001b[39;00m \u001b[38;5;129;01mnot\u001b[39;00m \u001b[38;5;28misinstance\u001b[39m(\u001b[38;5;28mself\u001b[39m\u001b[38;5;241m.\u001b[39mindex, MultiIndex):\n\u001b[0;32m   4218\u001b[0m     \u001b[38;5;66;03m# CategoricalIndex: Trying to use the engine fastpath may give incorrect\u001b[39;00m\n\u001b[0;32m   4219\u001b[0m     \u001b[38;5;66;03m#  results if our categories are integers that dont match our codes\u001b[39;00m\n\u001b[0;32m   4220\u001b[0m     \u001b[38;5;66;03m# IntervalIndex: IntervalTree has no get_loc\u001b[39;00m\n\u001b[1;32m-> 4221\u001b[0m     row \u001b[38;5;241m=\u001b[39m \u001b[38;5;28mself\u001b[39m\u001b[38;5;241m.\u001b[39mindex\u001b[38;5;241m.\u001b[39mget_loc(index)\n\u001b[0;32m   4222\u001b[0m     \u001b[38;5;28;01mreturn\u001b[39;00m series\u001b[38;5;241m.\u001b[39m_values[row]\n\u001b[0;32m   4224\u001b[0m \u001b[38;5;66;03m# For MultiIndex going through engine effectively restricts us to\u001b[39;00m\n\u001b[0;32m   4225\u001b[0m \u001b[38;5;66;03m#  same-length tuples; see test_get_set_value_no_partial_indexing\u001b[39;00m\n",
      "File \u001b[1;32mc:\\Users\\maria\\anaconda3\\Lib\\site-packages\\pandas\\core\\indexes\\range.py:417\u001b[0m, in \u001b[0;36mRangeIndex.get_loc\u001b[1;34m(self, key)\u001b[0m\n\u001b[0;32m    415\u001b[0m         \u001b[38;5;28;01mraise\u001b[39;00m \u001b[38;5;167;01mKeyError\u001b[39;00m(key) \u001b[38;5;28;01mfrom\u001b[39;00m \u001b[38;5;21;01merr\u001b[39;00m\n\u001b[0;32m    416\u001b[0m \u001b[38;5;28;01mif\u001b[39;00m \u001b[38;5;28misinstance\u001b[39m(key, Hashable):\n\u001b[1;32m--> 417\u001b[0m     \u001b[38;5;28;01mraise\u001b[39;00m \u001b[38;5;167;01mKeyError\u001b[39;00m(key)\n\u001b[0;32m    418\u001b[0m \u001b[38;5;28mself\u001b[39m\u001b[38;5;241m.\u001b[39m_check_indexing_error(key)\n\u001b[0;32m    419\u001b[0m \u001b[38;5;28;01mraise\u001b[39;00m \u001b[38;5;167;01mKeyError\u001b[39;00m(key)\n",
      "\u001b[1;31mKeyError\u001b[0m: 'JOSEPH DRISCOLL'"
     ]
    }
   ],
   "source": [
    "Sal= pd.read_csv('Salaries.csv')\n",
    "print(Sal)\n",
    "\n",
    "charge_worker = sal.loc['JOSEPH DRISCOLL', 'JobTitle']\n",
    "print(f'El cargo de JOSEPH DRISCOLL es {charge_worker[0] if not charge_worker.empty else \"No se logró encontrar\" }')\n",
    "\n"
   ]
  },
  {
   "cell_type": "markdown",
   "id": "eb39df2d",
   "metadata": {},
   "source": [
    "¿Cuál es el nombre de la persona mejor pagada (incluidos los beneficios)?"
   ]
  },
  {
   "cell_type": "code",
   "execution_count": 59,
   "id": "ddac498e",
   "metadata": {},
   "outputs": [
    {
     "name": "stdout",
     "output_type": "stream",
     "text": [
      "            Id       EmployeeName  \\\n",
      "0            1     NATHANIEL FORD   \n",
      "1            2       GARY JIMENEZ   \n",
      "2            3     ALBERT PARDINI   \n",
      "3            4  CHRISTOPHER CHONG   \n",
      "4            5    PATRICK GARDNER   \n",
      "...        ...                ...   \n",
      "148649  148650      Roy I Tillery   \n",
      "148650  148651       Not provided   \n",
      "148651  148652       Not provided   \n",
      "148652  148653       Not provided   \n",
      "148653  148654          Joe Lopez   \n",
      "\n",
      "                                              JobTitle    BasePay  \\\n",
      "0       GENERAL MANAGER-METROPOLITAN TRANSIT AUTHORITY  167411.18   \n",
      "1                      CAPTAIN III (POLICE DEPARTMENT)  155966.02   \n",
      "2                      CAPTAIN III (POLICE DEPARTMENT)  212739.13   \n",
      "3                 WIRE ROPE CABLE MAINTENANCE MECHANIC   77916.00   \n",
      "4         DEPUTY CHIEF OF DEPARTMENT,(FIRE DEPARTMENT)  134401.60   \n",
      "...                                                ...        ...   \n",
      "148649                                       Custodian       0.00   \n",
      "148650                                    Not provided        NaN   \n",
      "148651                                    Not provided        NaN   \n",
      "148652                                    Not provided        NaN   \n",
      "148653                      Counselor, Log Cabin Ranch       0.00   \n",
      "\n",
      "        OvertimePay   OtherPay  Benefits   TotalPay  TotalPayBenefits  Year  \\\n",
      "0              0.00  400184.25       NaN  567595.43         567595.43  2011   \n",
      "1         245131.88  137811.38       NaN  538909.28         538909.28  2011   \n",
      "2         106088.18   16452.60       NaN  335279.91         335279.91  2011   \n",
      "3          56120.71  198306.90       NaN  332343.61         332343.61  2011   \n",
      "4           9737.00  182234.59       NaN  326373.19         326373.19  2011   \n",
      "...             ...        ...       ...        ...               ...   ...   \n",
      "148649         0.00       0.00       0.0       0.00              0.00  2014   \n",
      "148650          NaN        NaN       NaN       0.00              0.00  2014   \n",
      "148651          NaN        NaN       NaN       0.00              0.00  2014   \n",
      "148652          NaN        NaN       NaN       0.00              0.00  2014   \n",
      "148653         0.00    -618.13       0.0    -618.13           -618.13  2014   \n",
      "\n",
      "        Notes         Agency  Status  \n",
      "0         NaN  San Francisco     NaN  \n",
      "1         NaN  San Francisco     NaN  \n",
      "2         NaN  San Francisco     NaN  \n",
      "3         NaN  San Francisco     NaN  \n",
      "4         NaN  San Francisco     NaN  \n",
      "...       ...            ...     ...  \n",
      "148649    NaN  San Francisco     NaN  \n",
      "148650    NaN  San Francisco     NaN  \n",
      "148651    NaN  San Francisco     NaN  \n",
      "148652    NaN  San Francisco     NaN  \n",
      "148653    NaN  San Francisco     NaN  \n",
      "\n",
      "[148654 rows x 13 columns]\n",
      "NATHANIEL FORD\n"
     ]
    }
   ],
   "source": [
    "Sal= pd.read_csv('Salaries.csv')\n",
    "print(Sal)\n",
    "\n",
    "best_pay = sal.loc[sal['TotalPay'].idxmax(), 'EmployeeName']\n",
    "print(best_pay)"
   ]
  },
  {
   "cell_type": "markdown",
   "id": "7a302953",
   "metadata": {},
   "source": [
    "¿Cuántos títulos de trabajo únicos hay?"
   ]
  },
  {
   "cell_type": "code",
   "execution_count": 60,
   "id": "92b31ed8",
   "metadata": {},
   "outputs": [
    {
     "name": "stdout",
     "output_type": "stream",
     "text": [
      "            Id       EmployeeName  \\\n",
      "0            1     NATHANIEL FORD   \n",
      "1            2       GARY JIMENEZ   \n",
      "2            3     ALBERT PARDINI   \n",
      "3            4  CHRISTOPHER CHONG   \n",
      "4            5    PATRICK GARDNER   \n",
      "...        ...                ...   \n",
      "148649  148650      Roy I Tillery   \n",
      "148650  148651       Not provided   \n",
      "148651  148652       Not provided   \n",
      "148652  148653       Not provided   \n",
      "148653  148654          Joe Lopez   \n",
      "\n",
      "                                              JobTitle    BasePay  \\\n",
      "0       GENERAL MANAGER-METROPOLITAN TRANSIT AUTHORITY  167411.18   \n",
      "1                      CAPTAIN III (POLICE DEPARTMENT)  155966.02   \n",
      "2                      CAPTAIN III (POLICE DEPARTMENT)  212739.13   \n",
      "3                 WIRE ROPE CABLE MAINTENANCE MECHANIC   77916.00   \n",
      "4         DEPUTY CHIEF OF DEPARTMENT,(FIRE DEPARTMENT)  134401.60   \n",
      "...                                                ...        ...   \n",
      "148649                                       Custodian       0.00   \n",
      "148650                                    Not provided        NaN   \n",
      "148651                                    Not provided        NaN   \n",
      "148652                                    Not provided        NaN   \n",
      "148653                      Counselor, Log Cabin Ranch       0.00   \n",
      "\n",
      "        OvertimePay   OtherPay  Benefits   TotalPay  TotalPayBenefits  Year  \\\n",
      "0              0.00  400184.25       NaN  567595.43         567595.43  2011   \n",
      "1         245131.88  137811.38       NaN  538909.28         538909.28  2011   \n",
      "2         106088.18   16452.60       NaN  335279.91         335279.91  2011   \n",
      "3          56120.71  198306.90       NaN  332343.61         332343.61  2011   \n",
      "4           9737.00  182234.59       NaN  326373.19         326373.19  2011   \n",
      "...             ...        ...       ...        ...               ...   ...   \n",
      "148649         0.00       0.00       0.0       0.00              0.00  2014   \n",
      "148650          NaN        NaN       NaN       0.00              0.00  2014   \n",
      "148651          NaN        NaN       NaN       0.00              0.00  2014   \n",
      "148652          NaN        NaN       NaN       0.00              0.00  2014   \n",
      "148653         0.00    -618.13       0.0    -618.13           -618.13  2014   \n",
      "\n",
      "        Notes         Agency  Status  \n",
      "0         NaN  San Francisco     NaN  \n",
      "1         NaN  San Francisco     NaN  \n",
      "2         NaN  San Francisco     NaN  \n",
      "3         NaN  San Francisco     NaN  \n",
      "4         NaN  San Francisco     NaN  \n",
      "...       ...            ...     ...  \n",
      "148649    NaN  San Francisco     NaN  \n",
      "148650    NaN  San Francisco     NaN  \n",
      "148651    NaN  San Francisco     NaN  \n",
      "148652    NaN  San Francisco     NaN  \n",
      "148653    NaN  San Francisco     NaN  \n",
      "\n",
      "[148654 rows x 13 columns]\n",
      "Estos son los trabajos unicos: ['GENERAL MANAGER-METROPOLITAN TRANSIT AUTHORITY'\n",
      " 'CAPTAIN III (POLICE DEPARTMENT)' 'WIRE ROPE CABLE MAINTENANCE MECHANIC'\n",
      " ... 'Conversion' 'Cashier 3' 'Not provided']\n"
     ]
    }
   ],
   "source": [
    "Sal= pd.read_csv('Salaries.csv')\n",
    "print(Sal)\n",
    "\n",
    "unique_jobs = sal ['JobTitle'].unique()\n",
    "print(f'Estos son los trabajos unicos: {unique_jobs}')"
   ]
  },
  {
   "cell_type": "markdown",
   "id": "5d05dc94",
   "metadata": {},
   "source": [
    "## 🍎 Numpy básico\n",
    "la documentación oficial de numpy esta aquí: <a href=\"https://numpy.org/doc/stable/reference/index.html#reference\">Numpy reference</a>"
   ]
  },
  {
   "cell_type": "markdown",
   "id": "c0524910",
   "metadata": {},
   "source": [
    "##  ✨ Bonus"
   ]
  },
  {
   "cell_type": "markdown",
   "id": "34f96787",
   "metadata": {},
   "source": [
    "Usando un API construya un programa que muestre la tasa de conversión entre COP y USD, puede usar: <a href=\"https://exchangeratesapi.io/\">Exchange API</a>\n",
    "- Para interactuar con APIs pueden importar esta librería: ***requests***, <a href=\"https://requests.readthedocs.io/en/latest/\">Aquí su documentación</a>"
   ]
  },
  {
   "cell_type": "code",
   "execution_count": null,
   "id": "083a39a8",
   "metadata": {},
   "outputs": [],
   "source": []
  }
 ],
 "metadata": {
  "kernelspec": {
   "display_name": "Python 3 (ipykernel)",
   "language": "python",
   "name": "python3"
  },
  "language_info": {
   "codemirror_mode": {
    "name": "ipython",
    "version": 3
   },
   "file_extension": ".py",
   "mimetype": "text/x-python",
   "name": "python",
   "nbconvert_exporter": "python",
   "pygments_lexer": "ipython3",
   "version": "3.12.4"
  }
 },
 "nbformat": 4,
 "nbformat_minor": 5
}
